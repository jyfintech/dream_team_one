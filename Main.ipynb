{
 "cells": [
  {
   "cell_type": "code",
   "execution_count": 1,
   "metadata": {},
   "outputs": [],
   "source": [
    "# !pip3 install cryptocompare"
   ]
  },
  {
   "cell_type": "code",
   "execution_count": 3,
   "metadata": {},
   "outputs": [
    {
     "data": {
      "text/plain": [
       "True"
      ]
     },
     "execution_count": 3,
     "metadata": {},
     "output_type": "execute_result"
    }
   ],
   "source": [
    "%matplotlib inline\n",
    "\n",
    "import networkx as nx\n",
    "import numpy as np\n",
    "import time\n",
    "import matplotlib.pyplot as plt\n",
    "import cryptocompare\n",
    "import requests\n",
    "import json\n",
    "import pandas as pd\n",
    "import os\n",
    "from time import sleep\n",
    "from datetime import datetime\n",
    "from dotenv import load_dotenv\n",
    "from mpl_toolkits.mplot3d import Axes3D\n",
    "\n",
    "load_dotenv()"
   ]
  },
  {
   "cell_type": "code",
   "execution_count": 14,
   "metadata": {},
   "outputs": [],
   "source": [
    "def Main():\n",
    "    apikey = os.getenv('apikey')\n",
    "    cryptocompare_api = os.getenv('cryptocompare_api')\n",
    "    \n",
    "    def getUserInput():\n",
    "        prompt = input('Choose profile:\\n'\n",
    "              '1. Binance\\n'\n",
    "              '2. Uniswap\\n'\n",
    "              '3. Gemini\\n')\n",
    "        return int(prompt)\n",
    "\n",
    "    def getAddress(arg):\n",
    "        addressBook = {1:'0x3f5CE5FBFe3E9af3971dD833D26bA9b5C936f0bE',\n",
    "                       2:'0x88599C44e8EeB2Bbc2C1EB4749D37E09c8282d55',\n",
    "                       3:'0xd24400ae8BfEBb18cA49Be86258a3C749cf46853'}\n",
    "        return addressBook.get(arg)\n",
    "    \n",
    "    def roundNearestMinute(ts):\n",
    "        return ts.dt.round('1min')\n",
    "        \n",
    "    def getPublicKeyTransactions():\n",
    "        userInput = getUserInput()\n",
    "        address = getAddress(userInput)\n",
    "\n",
    "        getAddressTransactions = f'https://api.ethplorer.io/getAddressTransactions/{address}?limit=1000&apiKey={apikey}'\n",
    "        getAddressTransactionsResponse = requests.get(getAddressTransactions).json()\n",
    "\n",
    "        timestamp = []\n",
    "        converted_timestamp = []\n",
    "        hash_num = []\n",
    "        value = []\n",
    "        from_add = []\n",
    "        to_add = []\n",
    "\n",
    "        for transaction in getAddressTransactionsResponse:\n",
    "            timestamp.append(transaction['timestamp'])\n",
    "            converted_timestamp.append(datetime.fromtimestamp(transaction['timestamp']))\n",
    "            hash_num.append(transaction['hash'])\n",
    "            value.append(transaction['value'])\n",
    "            from_add.append(transaction['from'])\n",
    "            to_add.append(transaction['to'])\n",
    "\n",
    "        ts_df = pd.DataFrame({'converted_timestamp':converted_timestamp})\n",
    "        ts_series = ts_df['converted_timestamp']\n",
    "        rounded_timestamp = roundNearestMinute(ts_series)\n",
    "        df = pd.DataFrame({'timestamp': timestamp, 'compare_timestamp': rounded_timestamp, 'transaction_hash': hash_num, 'value_in_eth': value, 'from_address': from_add, 'to_address': to_add})\n",
    "        return df\n",
    "    \n",
    "    def getHistoricalPrice():\n",
    "        set_crypto_key = f'cryptocompare.cryptocompare._set_api_key_parameter{cryptocompare_api}'\n",
    "        getHistETHPrice = cryptocompare.get_historical_price_minute('ETH', currency='USD', limit=1440)\n",
    "\n",
    "        timestamp = []\n",
    "        converted_timestamp = []\n",
    "        close = []\n",
    "\n",
    "        for time in getHistETHPrice:\n",
    "            timestamp.append(time['time'])\n",
    "            converted_timestamp.append(datetime.fromtimestamp(time['time']))\n",
    "            close.append(time['close'])\n",
    "\n",
    "        df = pd.DataFrame({'timestamp':timestamp, 'compare_timestamp':converted_timestamp, 'close':close}).sort_values(by=['compare_timestamp'], ascending=False)\n",
    "        return df\n",
    "    \n",
    "    def mergeDataFrames(pk, hp):\n",
    "        df = pd.merge(pk, hp, on='compare_timestamp')\n",
    "        return df\n",
    "    \n",
    "    def createCSV(df):\n",
    "        df.to_csv('getTransactionData.csv')\n",
    "        \n",
    "    def createPlot(df):\n",
    "        timestamp = df['compare_timestamp']\n",
    "\n",
    "        conv_ts = []\n",
    "        for time in timestamp:\n",
    "            conv_ts.append(float(time.split()[1].replace(':',''))/100)\n",
    "        \n",
    "        final_ts = timestamp['compare_timestamp'].to_numpy()\n",
    "        valueETH = df['value_in_eth'].to_numpy()\n",
    "        priceETH = df['close'].to_numpy()\n",
    "            \n",
    "        ax = plt.axes(projection='3d')\n",
    "\n",
    "        ax.scatter3D(final_ts, valueETH, priceETH, c=priceETH, cmap='Greens');\n",
    "        ax.set_title('Trade Flow Analysis')\n",
    "        ax.set_xlabel('Time')\n",
    "        ax.set_ylabel('Value Transacted')\n",
    "        ax.set_zlabel('Spot Price')\n",
    "\n",
    "        stamp = int(time.time())\n",
    "\n",
    "        plt.savefig(f'trade_flow_analysis_{stamp}.png')\n",
    "        plt.show()\n",
    "\n",
    "    pk_df = getPublicKeyTransactions()\n",
    "    hp_df = getHistoricalPrice()\n",
    "    final_df = mergeDataFrames(pk_df, hp_df)\n",
    "    \n",
    "    createCSV(final_df)\n",
    "    createPlot(final_df)"
   ]
  },
  {
   "cell_type": "code",
   "execution_count": 15,
   "metadata": {},
   "outputs": [
    {
     "name": "stdin",
     "output_type": "stream",
     "text": [
      "Choose profile:\n",
      "1. Binance\n",
      "2. Uniswap\n",
      "3. Gemini\n",
      " 1\n"
     ]
    },
    {
     "ename": "AttributeError",
     "evalue": "'Timestamp' object has no attribute 'split'",
     "output_type": "error",
     "traceback": [
      "\u001b[1;31m---------------------------------------------------------------------------\u001b[0m",
      "\u001b[1;31mAttributeError\u001b[0m                            Traceback (most recent call last)",
      "\u001b[1;32m<ipython-input-15-836aee3321f7>\u001b[0m in \u001b[0;36m<module>\u001b[1;34m\u001b[0m\n\u001b[1;32m----> 1\u001b[1;33m \u001b[0mMain\u001b[0m\u001b[1;33m(\u001b[0m\u001b[1;33m)\u001b[0m\u001b[1;33m\u001b[0m\u001b[1;33m\u001b[0m\u001b[0m\n\u001b[0m",
      "\u001b[1;32m<ipython-input-14-0a01abdaea7b>\u001b[0m in \u001b[0;36mMain\u001b[1;34m()\u001b[0m\n\u001b[0;32m     99\u001b[0m \u001b[1;33m\u001b[0m\u001b[0m\n\u001b[0;32m    100\u001b[0m     \u001b[0mcreateCSV\u001b[0m\u001b[1;33m(\u001b[0m\u001b[0mfinal_df\u001b[0m\u001b[1;33m)\u001b[0m\u001b[1;33m\u001b[0m\u001b[1;33m\u001b[0m\u001b[0m\n\u001b[1;32m--> 101\u001b[1;33m     \u001b[0mcreatePlot\u001b[0m\u001b[1;33m(\u001b[0m\u001b[0mfinal_df\u001b[0m\u001b[1;33m)\u001b[0m\u001b[1;33m\u001b[0m\u001b[1;33m\u001b[0m\u001b[0m\n\u001b[0m",
      "\u001b[1;32m<ipython-input-14-0a01abdaea7b>\u001b[0m in \u001b[0;36mcreatePlot\u001b[1;34m(df)\u001b[0m\n\u001b[0;32m     75\u001b[0m         \u001b[0mconv_ts\u001b[0m \u001b[1;33m=\u001b[0m \u001b[1;33m[\u001b[0m\u001b[1;33m]\u001b[0m\u001b[1;33m\u001b[0m\u001b[1;33m\u001b[0m\u001b[0m\n\u001b[0;32m     76\u001b[0m         \u001b[1;32mfor\u001b[0m \u001b[0mtime\u001b[0m \u001b[1;32min\u001b[0m \u001b[0mtimestamp\u001b[0m\u001b[1;33m:\u001b[0m\u001b[1;33m\u001b[0m\u001b[1;33m\u001b[0m\u001b[0m\n\u001b[1;32m---> 77\u001b[1;33m             \u001b[0mconv_ts\u001b[0m\u001b[1;33m.\u001b[0m\u001b[0mappend\u001b[0m\u001b[1;33m(\u001b[0m\u001b[0mfloat\u001b[0m\u001b[1;33m(\u001b[0m\u001b[0mtime\u001b[0m\u001b[1;33m.\u001b[0m\u001b[0msplit\u001b[0m\u001b[1;33m(\u001b[0m\u001b[1;33m)\u001b[0m\u001b[1;33m[\u001b[0m\u001b[1;36m1\u001b[0m\u001b[1;33m]\u001b[0m\u001b[1;33m.\u001b[0m\u001b[0mreplace\u001b[0m\u001b[1;33m(\u001b[0m\u001b[1;34m':'\u001b[0m\u001b[1;33m,\u001b[0m\u001b[1;34m''\u001b[0m\u001b[1;33m)\u001b[0m\u001b[1;33m)\u001b[0m\u001b[1;33m/\u001b[0m\u001b[1;36m100\u001b[0m\u001b[1;33m)\u001b[0m\u001b[1;33m\u001b[0m\u001b[1;33m\u001b[0m\u001b[0m\n\u001b[0m\u001b[0;32m     78\u001b[0m \u001b[1;33m\u001b[0m\u001b[0m\n\u001b[0;32m     79\u001b[0m         \u001b[0mfinal_ts\u001b[0m \u001b[1;33m=\u001b[0m \u001b[0mtimestamp\u001b[0m\u001b[1;33m[\u001b[0m\u001b[1;34m'compare_timestamp'\u001b[0m\u001b[1;33m]\u001b[0m\u001b[1;33m.\u001b[0m\u001b[0mto_numpy\u001b[0m\u001b[1;33m(\u001b[0m\u001b[1;33m)\u001b[0m\u001b[1;33m\u001b[0m\u001b[1;33m\u001b[0m\u001b[0m\n",
      "\u001b[1;31mAttributeError\u001b[0m: 'Timestamp' object has no attribute 'split'"
     ]
    }
   ],
   "source": [
    "Main()"
   ]
  }
 ],
 "metadata": {
  "kernelspec": {
   "display_name": "Python 3",
   "language": "python",
   "name": "python3"
  },
  "language_info": {
   "codemirror_mode": {
    "name": "ipython",
    "version": 3
   },
   "file_extension": ".py",
   "mimetype": "text/x-python",
   "name": "python",
   "nbconvert_exporter": "python",
   "pygments_lexer": "ipython3",
   "version": "3.7.9"
  }
 },
 "nbformat": 4,
 "nbformat_minor": 4
}
