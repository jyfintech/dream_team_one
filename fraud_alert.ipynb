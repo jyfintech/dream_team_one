{
 "cells": [
  {
   "cell_type": "code",
   "execution_count": 61,
   "id": "cd843db0",
   "metadata": {},
   "outputs": [],
   "source": [
    "import requests\n",
    "import os\n",
    "import pandas as pd\n",
    "\n",
    "from time import sleep"
   ]
  },
  {
   "cell_type": "code",
   "execution_count": 62,
   "id": "ac7321a8",
   "metadata": {},
   "outputs": [
    {
     "data": {
      "text/plain": [
       "True"
      ]
     },
     "execution_count": 62,
     "metadata": {},
     "output_type": "execute_result"
    }
   ],
   "source": [
    "# Load .env environment variables\n",
    "from dotenv import load_dotenv\n",
    "load_dotenv()"
   ]
  },
  {
   "cell_type": "code",
   "execution_count": 63,
   "id": "bc5c0099",
   "metadata": {},
   "outputs": [],
   "source": [
    "api_domain = \"https://api.ethplorer.io\"\n",
    "ethplorer_api_key = \"EK-cASkJ-bSrvUqh-Am7L7\"\n",
    "\n",
    "# number of tokens that we want to track\n",
    "num_tokens_to_watch = 1\n",
    "# number of top holders that we want to track\n",
    "num_holders_to_watch = 5\n",
    "\n",
    "# threshold for sending SMS\n",
    "whale_alert_threshold = 1"
   ]
  },
  {
   "cell_type": "code",
   "execution_count": 64,
   "id": "1ec126e6",
   "metadata": {},
   "outputs": [
    {
     "data": {
      "text/plain": [
       "{'WETH': '0xc02aaa39b223fe8d0a0e5c4f27ead9083c756cc2'}"
      ]
     },
     "execution_count": 64,
     "metadata": {},
     "output_type": "execute_result"
    }
   ],
   "source": [
    "# top tokens by trade volume\n",
    "top_token_request_url = f\"{api_domain}/getTopTokens?apiKey={ethplorer_api_key}\"\n",
    "top_tokens_by_trade_volume = requests.get(top_token_request_url).json().get('tokens')[:num_tokens_to_watch]\n",
    "\n",
    "# get a map of token name -> address\n",
    "token_name_to_address = {token['name']: token['address'] for token in top_tokens_by_trade_volume}\n",
    "token_name_to_address"
   ]
  },
  {
   "cell_type": "code",
   "execution_count": 65,
   "id": "8a2d7d0d",
   "metadata": {},
   "outputs": [
    {
     "data": {
      "text/plain": [
       "{'WETH': ['0x2f0b23f53734252bda2277357e97e1517d6b042a',\n",
       "  '0x030ba81f1c18d280636f32af80b9aad02cf0854e',\n",
       "  '0xf04a5cc80b1e94c69b48f5ee68a08cd2f09a7c3e',\n",
       "  '0x94b0a3d511b6ecdb17ebf877278ab030acb0a878',\n",
       "  '0xceff51756c56ceffca006cd410b03ffc46dd3a58']}"
      ]
     },
     "execution_count": 65,
     "metadata": {},
     "output_type": "execute_result"
    }
   ],
   "source": [
    "top_holder_addresses = {}\n",
    "\n",
    "# for each token\n",
    "for token, address in token_name_to_address.items():\n",
    "    # find the top holders\n",
    "    top_holders_request_url = f\"{api_domain}/getTopTokenHolders/{address}?apiKey={ethplorer_api_key}&limit={num_holders_to_watch}\"\n",
    "    top_holders = requests.get(top_holders_request_url).json().get('holders')\n",
    "    if top_holders:\n",
    "        top_holder_addresses[token] = [holder['address'] for holder in top_holders]\n",
    "        \n",
    "top_holder_addresses"
   ]
  },
  {
   "cell_type": "code",
   "execution_count": 66,
   "id": "55370d9c",
   "metadata": {},
   "outputs": [
    {
     "name": "stdout",
     "output_type": "stream",
     "text": [
      "Requirement already satisfied: twilio in /Users/hero/opt/anaconda3/envs/pyvizenv1/lib/python3.7/site-packages (6.58.0)\n",
      "Requirement already satisfied: six in /Users/hero/opt/anaconda3/envs/pyvizenv1/lib/python3.7/site-packages (from twilio) (1.15.0)\n",
      "Requirement already satisfied: PyJWT==1.7.1 in /Users/hero/opt/anaconda3/envs/pyvizenv1/lib/python3.7/site-packages (from twilio) (1.7.1)\n",
      "Requirement already satisfied: pytz in /Users/hero/opt/anaconda3/envs/pyvizenv1/lib/python3.7/site-packages (from twilio) (2021.1)\n",
      "Requirement already satisfied: requests>=2.0.0 in /Users/hero/opt/anaconda3/envs/pyvizenv1/lib/python3.7/site-packages (from twilio) (2.25.1)\n",
      "Requirement already satisfied: urllib3<1.27,>=1.21.1 in /Users/hero/opt/anaconda3/envs/pyvizenv1/lib/python3.7/site-packages (from requests>=2.0.0->twilio) (1.26.4)\n",
      "Requirement already satisfied: idna<3,>=2.5 in /Users/hero/opt/anaconda3/envs/pyvizenv1/lib/python3.7/site-packages (from requests>=2.0.0->twilio) (2.10)\n",
      "Requirement already satisfied: certifi>=2017.4.17 in /Users/hero/opt/anaconda3/envs/pyvizenv1/lib/python3.7/site-packages (from requests>=2.0.0->twilio) (2020.12.5)\n",
      "Requirement already satisfied: chardet<5,>=3.0.2 in /Users/hero/opt/anaconda3/envs/pyvizenv1/lib/python3.7/site-packages (from requests>=2.0.0->twilio) (4.0.0)\n"
     ]
    }
   ],
   "source": [
    "!pip install twilio"
   ]
  },
  {
   "cell_type": "code",
   "execution_count": 67,
   "id": "09c99fe6",
   "metadata": {},
   "outputs": [],
   "source": [
    "from twilio.rest import Client"
   ]
  },
  {
   "cell_type": "code",
   "execution_count": 68,
   "id": "30ab1a59",
   "metadata": {},
   "outputs": [],
   "source": [
    "# Your Account Sid and Auth Token from twilio.com/console\n",
    "# and set the environment variables. See http://twil.io/secure\n",
    "account_sid = os.getenv('TWILIO_ACCOUNT_SID')\n",
    "auth_token = os.getenv('TWILIO_AUTH_TOKEN')\n",
    "client = Client(account_sid, auth_token)"
   ]
  },
  {
   "cell_type": "code",
   "execution_count": 69,
   "id": "aa8f130c",
   "metadata": {},
   "outputs": [
    {
     "data": {
      "text/html": [
       "<div>\n",
       "<style scoped>\n",
       "    .dataframe tbody tr th:only-of-type {\n",
       "        vertical-align: middle;\n",
       "    }\n",
       "\n",
       "    .dataframe tbody tr th {\n",
       "        vertical-align: top;\n",
       "    }\n",
       "\n",
       "    .dataframe thead th {\n",
       "        text-align: right;\n",
       "    }\n",
       "</style>\n",
       "<table border=\"1\" class=\"dataframe\">\n",
       "  <thead>\n",
       "    <tr style=\"text-align: right;\">\n",
       "      <th></th>\n",
       "      <th>from</th>\n",
       "      <th>hash</th>\n",
       "      <th>input</th>\n",
       "      <th>success</th>\n",
       "      <th>timestamp</th>\n",
       "      <th>to</th>\n",
       "      <th>value</th>\n",
       "    </tr>\n",
       "  </thead>\n",
       "  <tbody>\n",
       "    <tr>\n",
       "      <th>0</th>\n",
       "      <td>0xff44a4ae22c89370c132a5ff51441335938aebb1</td>\n",
       "      <td>0xdab62f305257e5bb41cfdf12eaf06334ecda4dca77a2...</td>\n",
       "      <td>0x</td>\n",
       "      <td>False</td>\n",
       "      <td>1618693545</td>\n",
       "      <td>0x94b0a3d511b6ecdb17ebf877278ab030acb0a878</td>\n",
       "      <td>0.120</td>\n",
       "    </tr>\n",
       "    <tr>\n",
       "      <th>1</th>\n",
       "      <td>0x60ee0c8bb493b79286a54997322904f74fba3736</td>\n",
       "      <td>0x339be3728b0520526cac6a9bfa3588f5bee9c070ef10...</td>\n",
       "      <td>0x</td>\n",
       "      <td>False</td>\n",
       "      <td>1617861575</td>\n",
       "      <td>0x94b0a3d511b6ecdb17ebf877278ab030acb0a878</td>\n",
       "      <td>0.002</td>\n",
       "    </tr>\n",
       "    <tr>\n",
       "      <th>2</th>\n",
       "      <td>0x79d34f0d56e4b675fce24e957bc22d5ef4333008</td>\n",
       "      <td>0x93b053df9abafb6074f2acd70fcc683241cddd7dac0c...</td>\n",
       "      <td>0x</td>\n",
       "      <td>False</td>\n",
       "      <td>1617861455</td>\n",
       "      <td>0x94b0a3d511b6ecdb17ebf877278ab030acb0a878</td>\n",
       "      <td>0.001</td>\n",
       "    </tr>\n",
       "  </tbody>\n",
       "</table>\n",
       "</div>"
      ],
      "text/plain": [
       "                                         from  \\\n",
       "0  0xff44a4ae22c89370c132a5ff51441335938aebb1   \n",
       "1  0x60ee0c8bb493b79286a54997322904f74fba3736   \n",
       "2  0x79d34f0d56e4b675fce24e957bc22d5ef4333008   \n",
       "\n",
       "                                                hash input  success  \\\n",
       "0  0xdab62f305257e5bb41cfdf12eaf06334ecda4dca77a2...    0x    False   \n",
       "1  0x339be3728b0520526cac6a9bfa3588f5bee9c070ef10...    0x    False   \n",
       "2  0x93b053df9abafb6074f2acd70fcc683241cddd7dac0c...    0x    False   \n",
       "\n",
       "    timestamp                                          to  value  \n",
       "0  1618693545  0x94b0a3d511b6ecdb17ebf877278ab030acb0a878  0.120  \n",
       "1  1617861575  0x94b0a3d511b6ecdb17ebf877278ab030acb0a878  0.002  \n",
       "2  1617861455  0x94b0a3d511b6ecdb17ebf877278ab030acb0a878  0.001  "
      ]
     },
     "execution_count": 69,
     "metadata": {},
     "output_type": "execute_result"
    }
   ],
   "source": [
    "timestamp_offset = {}\n",
    "\n",
    "for token, addresses in top_holder_addresses.items():\n",
    "    for addr in addresses:\n",
    "        request_url = f\"{api_domain}/getAddressTransactions/{addr}?apiKey={ethplorer_api_key}&limit=1000\"\n",
    "        if addr in timestamp_offset:\n",
    "            request_url += f\"&timestamp={timestamp_offset}\"\n",
    "            \n",
    "        response = requests.get(request_url).json()\n",
    "        \n",
    "        # continue if we run into rate limit errors\n",
    "        if not isinstance(response, list):\n",
    "            # print error for debugging purposes\n",
    "            print(response)\n",
    "            continue\n",
    "            \n",
    "        # update timestamp\n",
    "        if response:\n",
    "            timestamp_offset[addr] = max(response, key=lambda txn: txn['timestamp'])\n",
    "            \n",
    "        # only look at successful transactions\n",
    "        transactions = list(filter(lambda txn: txn['success'], response))\n",
    "        \n",
    "        # and see if we need to send SMS\n",
    "        if any(txn['value'] > whale_alert_threshold for txn in transactions):\n",
    "            \n",
    "            df = pd.DataFrame(transactions)\n",
    "            # TODO for Alex/Serra:\n",
    "            #\n",
    "            # dataframe is ready for visualizatio, see below for the format\n",
    "            # generate the png and attach that to the SMS message below\n",
    "            \n",
    "            body = f'{token} WHALE ALERT! {addr} had a transaction of more than {whale_alert_threshold} ETH.'\n",
    "            message = client.messages.create(body=body, from_='+18479614395', to='+14124650602‬')\n",
    "df"
   ]
  }
 ],
 "metadata": {
  "kernelspec": {
   "display_name": "Python [conda env:pyvizenv1]",
   "language": "python",
   "name": "conda-env-pyvizenv1-py"
  },
  "language_info": {
   "codemirror_mode": {
    "name": "ipython",
    "version": 3
   },
   "file_extension": ".py",
   "mimetype": "text/x-python",
   "name": "python",
   "nbconvert_exporter": "python",
   "pygments_lexer": "ipython3",
   "version": "3.7.7"
  }
 },
 "nbformat": 4,
 "nbformat_minor": 5
}
