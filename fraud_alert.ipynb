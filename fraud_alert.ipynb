{
 "cells": [
  {
   "cell_type": "code",
   "execution_count": 51,
   "metadata": {},
   "outputs": [],
   "source": [
    "import requests\n",
    "import os"
   ]
  },
  {
   "cell_type": "code",
   "execution_count": 52,
   "metadata": {},
   "outputs": [
    {
     "data": {
      "text/plain": [
       "True"
      ]
     },
     "execution_count": 52,
     "metadata": {},
     "output_type": "execute_result"
    }
   ],
   "source": [
    "# Load .env environment variables\n",
    "from dotenv import load_dotenv\n",
    "load_dotenv()"
   ]
  },
  {
   "cell_type": "code",
   "execution_count": 74,
   "metadata": {},
   "outputs": [],
   "source": [
    "api_domain = \"https://api.ethplorer.io\"\n",
    "ethplorer_api_key = \"freekey\"\n",
    "top_tokens_to_watch = 1\n",
    "top_holders_to_watch = 5\n",
    "whale_alert_threshold = 100"
   ]
  },
  {
   "cell_type": "code",
   "execution_count": 75,
   "metadata": {},
   "outputs": [
    {
     "data": {
      "text/plain": [
       "{'WETH': '0xc02aaa39b223fe8d0a0e5c4f27ead9083c756cc2'}"
      ]
     },
     "execution_count": 75,
     "metadata": {},
     "output_type": "execute_result"
    }
   ],
   "source": [
    "# top tokens by trade volume\n",
    "top_token_request_url = f\"{api_domain}/getTopTokens?apiKey={ethplorer_api_key}\"\n",
    "top_tokens_by_trade_volume = requests.get(top_token_request_url).json().get('tokens')[:top_tokens_to_watch]\n",
    "\n",
    "# get a map of token name -> address\n",
    "token_name_to_address = {token['name']: token['address'] for token in top_tokens_by_trade_volume}\n",
    "token_name_to_address"
   ]
  },
  {
   "cell_type": "code",
   "execution_count": 76,
   "metadata": {},
   "outputs": [
    {
     "data": {
      "text/plain": [
       "{'WETH': ['0x2f0b23f53734252bda2277357e97e1517d6b042a',\n",
       "  '0x030ba81f1c18d280636f32af80b9aad02cf0854e',\n",
       "  '0xf04a5cc80b1e94c69b48f5ee68a08cd2f09a7c3e',\n",
       "  '0x94b0a3d511b6ecdb17ebf877278ab030acb0a878',\n",
       "  '0x795065dcc9f64b5614c407a6efdc400da6221fb0']}"
      ]
     },
     "execution_count": 76,
     "metadata": {},
     "output_type": "execute_result"
    }
   ],
   "source": [
    "top_holder_addresses = {}\n",
    "\n",
    "# for each token\n",
    "for token, address in token_name_to_address.items():\n",
    "    # find the top holders\n",
    "    top_holders_request_url = f\"{api_domain}/getTopTokenHolders/{address}?apiKey={ethplorer_api_key}&limit={top_holders_to_watch}\"\n",
    "    top_holders = requests.get(top_holders_request_url).json().get('holders')\n",
    "    if top_holders:\n",
    "        top_holder_addresses[token] = [holder['address'] for holder in top_holders]\n",
    "        \n",
    "top_holder_addresses"
   ]
  },
  {
   "cell_type": "code",
   "execution_count": 77,
   "metadata": {},
   "outputs": [
    {
     "name": "stdout",
     "output_type": "stream",
     "text": [
      "Requirement already satisfied: twilio in /Users/hero/opt/anaconda3/envs/pyvizenv1/lib/python3.7/site-packages (6.58.0)\n",
      "Requirement already satisfied: six in /Users/hero/opt/anaconda3/envs/pyvizenv1/lib/python3.7/site-packages (from twilio) (1.15.0)\n",
      "Requirement already satisfied: PyJWT==1.7.1 in /Users/hero/opt/anaconda3/envs/pyvizenv1/lib/python3.7/site-packages (from twilio) (1.7.1)\n",
      "Requirement already satisfied: pytz in /Users/hero/opt/anaconda3/envs/pyvizenv1/lib/python3.7/site-packages (from twilio) (2021.1)\n",
      "Requirement already satisfied: requests>=2.0.0 in /Users/hero/opt/anaconda3/envs/pyvizenv1/lib/python3.7/site-packages (from twilio) (2.25.1)\n",
      "Requirement already satisfied: chardet<5,>=3.0.2 in /Users/hero/opt/anaconda3/envs/pyvizenv1/lib/python3.7/site-packages (from requests>=2.0.0->twilio) (4.0.0)\n",
      "Requirement already satisfied: idna<3,>=2.5 in /Users/hero/opt/anaconda3/envs/pyvizenv1/lib/python3.7/site-packages (from requests>=2.0.0->twilio) (2.10)\n",
      "Requirement already satisfied: certifi>=2017.4.17 in /Users/hero/opt/anaconda3/envs/pyvizenv1/lib/python3.7/site-packages (from requests>=2.0.0->twilio) (2020.12.5)\n",
      "Requirement already satisfied: urllib3<1.27,>=1.21.1 in /Users/hero/opt/anaconda3/envs/pyvizenv1/lib/python3.7/site-packages (from requests>=2.0.0->twilio) (1.26.4)\n"
     ]
    }
   ],
   "source": [
    "!pip install twilio"
   ]
  },
  {
   "cell_type": "code",
   "execution_count": 78,
   "metadata": {},
   "outputs": [],
   "source": [
    "from twilio.rest import Client"
   ]
  },
  {
   "cell_type": "code",
   "execution_count": 79,
   "metadata": {},
   "outputs": [],
   "source": [
    "# Your Account Sid and Auth Token from twilio.com/console\n",
    "# and set the environment variables. See http://twil.io/secure\n",
    "account_sid = os.getenv('TWILIO_ACCOUNT_SID')\n",
    "auth_token = os.getenv('TWILIO_AUTH_TOKEN')\n",
    "client = Client(account_sid, auth_token)"
   ]
  },
  {
   "cell_type": "code",
   "execution_count": 88,
   "metadata": {},
   "outputs": [
    {
     "name": "stdout",
     "output_type": "stream",
     "text": [
      "{'error': {'code': 429, 'message': 'Request limit is reached for your API key'}}\n",
      "{'error': {'code': 429, 'message': 'Request limit is reached for your API key'}}\n",
      "{'error': {'code': 429, 'message': 'Request limit is reached for your API key'}}\n"
     ]
    }
   ],
   "source": [
    "timestamp_offset = {}\n",
    "\n",
    "for token, addresses in top_holder_addresses.items():\n",
    "    for addr in addresses:\n",
    "        request_url = f\"{api_domain}/getAddressTransactions/{addr}?apiKey={ethplorer_api_key}&limit=1000\"\n",
    "        if addr in timestamp_offset:\n",
    "            request_url += f\"&timestamp={timestamp_offset}\"\n",
    "\n",
    "            \n",
    "        response = requests.get(request_url).json()\n",
    "        \n",
    "        # continue if we run into rate limit errors\n",
    "        if not isinstance(response, list):\n",
    "            # print error for debugging purposes\n",
    "            print(response)\n",
    "            continue\n",
    "            \n",
    "        # update timestamp\n",
    "        if response:\n",
    "            timestamp_offset[addr] = max(response, key=lambda txn: txn['timestamp'])\n",
    "            \n",
    "        # only look at successful transactions\n",
    "        # and see if we need to send SMS\n",
    "        if any(txn['success'] and txn['value'] > whale_alert_threshold for txn in transactions):\n",
    "            body = f'{token} WHALE ALERT! {addr} had a transaction of more than {whale_alert_threshold} ETH.'\n",
    "            message = client.messages.create(body=body, from_='+18479614395', to='+14124650602‬')\n",
    "            print(body)\n",
    "            "
   ]
  }
 ],
 "metadata": {
  "kernelspec": {
   "display_name": "Python 3",
   "language": "python",
   "name": "python3"
  },
  "language_info": {
   "codemirror_mode": {
    "name": "ipython",
    "version": 3
   },
   "file_extension": ".py",
   "mimetype": "text/x-python",
   "name": "python",
   "nbconvert_exporter": "python",
   "pygments_lexer": "ipython3",
   "version": "3.7.9"
  }
 },
 "nbformat": 4,
 "nbformat_minor": 5
}
