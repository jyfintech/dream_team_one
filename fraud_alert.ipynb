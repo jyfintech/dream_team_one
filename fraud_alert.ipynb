{
 "cells": [
  {
   "cell_type": "code",
   "execution_count": 4,
   "id": "f9d6fdaf",
   "metadata": {},
   "outputs": [
    {
     "data": {
      "text/plain": [
       "True"
      ]
     },
     "execution_count": 4,
     "metadata": {},
     "output_type": "execute_result"
    }
   ],
   "source": [
    "import os\n",
    "\n",
    "# Load .env environment variables\n",
    "from dotenv import load_dotenv\n",
    "load_dotenv()"
   ]
  },
  {
   "cell_type": "code",
   "execution_count": 5,
   "id": "6a1613a9",
   "metadata": {},
   "outputs": [
    {
     "name": "stdout",
     "output_type": "stream",
     "text": [
      "Collecting twilio\n",
      "  Downloading twilio-6.58.0.tar.gz (480 kB)\n",
      "\u001b[K     |████████████████████████████████| 480 kB 5.3 MB/s eta 0:00:01\n",
      "\u001b[?25hRequirement already satisfied: six in /Users/hero/opt/anaconda3/envs/pyvizenv1/lib/python3.7/site-packages (from twilio) (1.15.0)\n",
      "Requirement already satisfied: pytz in /Users/hero/opt/anaconda3/envs/pyvizenv1/lib/python3.7/site-packages (from twilio) (2021.1)\n",
      "Collecting PyJWT==1.7.1\n",
      "  Downloading PyJWT-1.7.1-py2.py3-none-any.whl (18 kB)\n",
      "Requirement already satisfied: requests>=2.0.0 in /Users/hero/opt/anaconda3/envs/pyvizenv1/lib/python3.7/site-packages (from twilio) (2.25.1)\n",
      "Requirement already satisfied: idna<3,>=2.5 in /Users/hero/opt/anaconda3/envs/pyvizenv1/lib/python3.7/site-packages (from requests>=2.0.0->twilio) (2.10)\n",
      "Requirement already satisfied: certifi>=2017.4.17 in /Users/hero/opt/anaconda3/envs/pyvizenv1/lib/python3.7/site-packages (from requests>=2.0.0->twilio) (2020.12.5)\n",
      "Requirement already satisfied: chardet<5,>=3.0.2 in /Users/hero/opt/anaconda3/envs/pyvizenv1/lib/python3.7/site-packages (from requests>=2.0.0->twilio) (4.0.0)\n",
      "Requirement already satisfied: urllib3<1.27,>=1.21.1 in /Users/hero/opt/anaconda3/envs/pyvizenv1/lib/python3.7/site-packages (from requests>=2.0.0->twilio) (1.26.4)\n",
      "Building wheels for collected packages: twilio\n",
      "  Building wheel for twilio (setup.py) ... \u001b[?25ldone\n",
      "\u001b[?25h  Created wheel for twilio: filename=twilio-6.58.0-py2.py3-none-any.whl size=1267711 sha256=617e2f543e2b19c4a07b8f9744f879636a98100cade95b6e6738fdc7704ffec1\n",
      "  Stored in directory: /Users/hero/Library/Caches/pip/wheels/a9/64/44/233579537f0969ce9149fab02e8afd8a15b23d442d51e791c9\n",
      "Successfully built twilio\n",
      "Installing collected packages: PyJWT, twilio\n",
      "Successfully installed PyJWT-1.7.1 twilio-6.58.0\n"
     ]
    }
   ],
   "source": [
    "!pip install twilio"
   ]
  },
  {
   "cell_type": "code",
   "execution_count": 6,
   "id": "61d42bcd",
   "metadata": {},
   "outputs": [],
   "source": [
    "from twilio.rest import Client"
   ]
  },
  {
   "cell_type": "code",
   "execution_count": 12,
   "id": "1498e1a8",
   "metadata": {},
   "outputs": [
    {
     "name": "stdout",
     "output_type": "stream",
     "text": [
      "MM0154f6d49e414761bedbeb897574afe7\n"
     ]
    }
   ],
   "source": [
    "# Your Account Sid and Auth Token from twilio.com/console\n",
    "# and set the environment variables. See http://twil.io/secure\n",
    "account_sid = os.getenv('TWILIO_ACCOUNT_SID')\n",
    "auth_token = os.getenv('TWILIO_AUTH_TOKEN')\n",
    "client = Client(account_sid, auth_token)\n",
    "\n",
    "message = client.messages.create(\n",
    "                              body='Hello there!',\n",
    "                              from_='+18479614395',\n",
    "                              media_url=['https://demo.twilio.com/owl.png'],\n",
    "                              to='+14124650602‬'\n",
    "                          )\n",
    "\n",
    "print(message.sid)"
   ]
  }
 ],
 "metadata": {
  "kernelspec": {
   "display_name": "Python [conda env:pyvizenv1]",
   "language": "python",
   "name": "conda-env-pyvizenv1-py"
  },
  "language_info": {
   "codemirror_mode": {
    "name": "ipython",
    "version": 3
   },
   "file_extension": ".py",
   "mimetype": "text/x-python",
   "name": "python",
   "nbconvert_exporter": "python",
   "pygments_lexer": "ipython3",
   "version": "3.7.7"
  }
 },
 "nbformat": 4,
 "nbformat_minor": 5
}
