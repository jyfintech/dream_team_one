{
 "cells": [
  {
   "cell_type": "code",
   "execution_count": null,
   "metadata": {},
   "outputs": [],
   "source": [
    "import requests\n",
    "import json"
   ]
  },
  {
   "cell_type": "code",
   "execution_count": null,
   "metadata": {},
   "outputs": [],
   "source": [
    "# Enter wallet address\n",
    "address = input(\"Enter your address: \")"
   ]
  },
  {
   "cell_type": "code",
   "execution_count": null,
   "metadata": {},
   "outputs": [],
   "source": [
    "# Check block info\n",
    "#block_info = f\"https://api.ethplorer.io/getLastBlock/{address}?apiKey=freekey\"\n",
    "#block_info_get = requests.get(block_info).json()\n",
    "#block_info_get"
   ]
  },
  {
   "cell_type": "code",
   "execution_count": null,
   "metadata": {},
   "outputs": [],
   "source": [
    "# Check address info\n",
    "#address_transactions = f\"https://api.ethplorer.io/getAddressHistory/{address}?limit=1000&apiKey=freekey\"\n",
    "#response_data_address_transactions = requests.get(address_transactions).json()\n",
    "#response_data_address_transactions"
   ]
  },
  {
   "cell_type": "code",
   "execution_count": null,
   "metadata": {},
   "outputs": [],
   "source": [
    "# Check for info for transactions as well\n",
    "last_address_transactions = f'https://api.ethplorer.io/getAddressTransactions/{address}?limit=1000&apiKey=freekey'\n",
    "\n",
    "response_data_last_address_transactions = requests.get(last_address_transactions).json()\n",
    "response_data_last_address_transactions"
   ]
  },
  {
   "cell_type": "code",
   "execution_count": null,
   "metadata": {},
   "outputs": [],
   "source": [
    "hash_num = []\n",
    "value = []\n",
    "from_add = []\n",
    "to_add = []\n",
    "for item in response_data_last_address_transactions:\n",
    "    hash_num.append(item['hash'])\n",
    "    value.append(item['value'])\n",
    "    from_add.append(item['from'])\n",
    "    to_add.append(item['to'])"
   ]
  },
  {
   "cell_type": "code",
   "execution_count": null,
   "metadata": {},
   "outputs": [],
   "source": []
  }
 ],
 "metadata": {
  "kernelspec": {
   "display_name": "Python 3",
   "language": "python",
   "name": "python3"
  },
  "language_info": {
   "codemirror_mode": {
    "name": "ipython",
    "version": 3
   },
   "file_extension": ".py",
   "mimetype": "text/x-python",
   "name": "python",
   "nbconvert_exporter": "python",
   "pygments_lexer": "ipython3",
   "version": "3.7.9"
  }
 },
 "nbformat": 4,
 "nbformat_minor": 4
}
