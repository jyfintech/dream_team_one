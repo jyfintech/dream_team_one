{
 "cells": [
  {
   "cell_type": "code",
   "execution_count": 5,
   "metadata": {},
   "outputs": [],
   "source": [
    "import requests\n",
    "import json\n",
    "import pandas as pd\n",
    "from time import sleep\n",
    "from dotenv import load_dotenv\n",
    "import os"
   ]
  },
  {
   "cell_type": "code",
   "execution_count": 6,
   "metadata": {},
   "outputs": [
    {
     "name": "stdin",
     "output_type": "stream",
     "text": [
      "Enter your address:  0x88599C44e8EeB2Bbc2C1EB4749D37E09c8282d55\n"
     ]
    }
   ],
   "source": [
    "# Enter wallet address and API key (to add it as dot_env later)--KW\n",
    "address = input(\"Enter your address: \")\n",
    "load_dotenv()\n",
    "apikey = os.getenv('apikey')"
   ]
  },
  {
   "cell_type": "code",
   "execution_count": 7,
   "metadata": {},
   "outputs": [],
   "source": [
    "# etherscan address for test transactions: https://etherscan.io/address/0x88599c44e8eeb2bbc2c1eb4749d37e09c8282d55\n",
    "# function to pull api data for dataframe. Gets transaction hash, ETH value, from address, to address and returns dataframe as DF\n",
    "def api_data_pull():\n",
    "    # API pull using get\n",
    "    last_address_transactions = f'https://api.ethplorer.io/getAddressTransactions/{address}?limit=1000&apiKey={apikey}'\n",
    "    response_data_last_address_transactions = requests.get(last_address_transactions).json()\n",
    "    # Creating lists by looping through list of dict objects in json from API\n",
    "    hash_num = []\n",
    "    value = []\n",
    "    from_add = []\n",
    "    to_add = []\n",
    "    for item in response_data_last_address_transactions:\n",
    "        hash_num.append(item['hash'])\n",
    "        value.append(item['value'])\n",
    "        from_add.append(item['from'])\n",
    "        to_add.append(item['to'])\n",
    "\n",
    "    # Creating datafame\n",
    "    df = pd.DataFrame({'transaction_hash': hash_num, 'value_in_eth': value, 'from_address': from_add, 'to_address': to_add})\n",
    "    return df"
   ]
  },
  {
   "cell_type": "code",
   "execution_count": 8,
   "metadata": {},
   "outputs": [],
   "source": [
    "# csv generator for testing\n",
    "df_test = api_data_pull()\n",
    "df_test.to_csv('transaction_data_fraud.csv')"
   ]
  },
  {
   "cell_type": "code",
   "execution_count": 8,
   "metadata": {},
   "outputs": [],
   "source": [
    "!pip install twilio"
   ]
  },
  {
   "cell_type": "code",
   "execution_count": 8,
   "metadata": {},
   "outputs": [],
   "source": [
    "from twilio.rest import Client\n",
    "account_sid = os.getenv('TWILIO_ACCOUNT_SID')\n",
    "auth_token = os.getenv('TWILIO_AUTH_TOKEN')\n",
    "client = Client(account_sid, auth_token)"
   ]
  },
  {
   "cell_type": "code",
   "execution_count": 5,
   "metadata": {},
   "outputs": [],
   "source": [
    "# Ignore for now. do not run until until ready. Code will need to run in this cell.\n",
    "while True:\n",
    "    df = api_data_pull()\n",
    "    sleep(5)\n",
    "    new_df = api_data_pull\n",
    "    if any(df['success']:\n",
    "    body = f'{token} WHALE ALERT! {addr} had a transaction of more than {whale_alert_threshold} ETH.'\n",
    "    message = client.messages.create(body=body, from_='+18479614395', to='+14124650602‬')\n",
    "    print(body)\n",
    "    "
   ]
  },
  {
   "cell_type": "code",
   "execution_count": null,
   "metadata": {},
   "outputs": [],
   "source": []
  }
 ],
 "metadata": {
  "kernelspec": {
   "display_name": "Python 3",
   "language": "python",
   "name": "python3"
  },
  "language_info": {
   "codemirror_mode": {
    "name": "ipython",
    "version": 3
   },
   "file_extension": ".py",
   "mimetype": "text/x-python",
   "name": "python",
   "nbconvert_exporter": "python",
   "pygments_lexer": "ipython3",
   "version": "3.7.9"
  }
 },
 "nbformat": 4,
 "nbformat_minor": 4
}
