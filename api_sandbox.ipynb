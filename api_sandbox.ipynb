{
 "cells": [
  {
   "cell_type": "code",
   "execution_count": 48,
   "metadata": {},
   "outputs": [],
   "source": [
    "import requests\n",
    "import json\n",
    "import pandas as pd\n",
    "import os\n",
    "from time import sleep\n",
    "from datetime import datetime\n",
    "from dotenv import load_dotenv"
   ]
  },
  {
   "cell_type": "code",
   "execution_count": 49,
   "metadata": {},
   "outputs": [],
   "source": [
    "# api_key = 'EK-cASkJ-bSrvUqh-Am7L7'\n",
    "load_dotenv()\n",
    "apikey = os.getenv('apikey')"
   ]
  },
  {
   "cell_type": "code",
   "execution_count": 60,
   "metadata": {},
   "outputs": [],
   "source": [
    "# etherscan address for test transactions: https://etherscan.io/address/0x88599c44e8eeb2bbc2c1eb4749d37e09c8282d55\n",
    "\n",
    "def getLastBlock():\n",
    "    # API pull using get\n",
    "    last_address_transactions = f'https://api.ethplorer.io/getLastBlock?limit=1000&apiKey={apikey}'\n",
    "    response_data_last_address_transactions = requests.get(last_address_transactions).json()\n",
    "    return response_data_last_address_transactions\n",
    "\n",
    "# getLastBlock()"
   ]
  },
  {
   "cell_type": "code",
   "execution_count": 57,
   "metadata": {},
   "outputs": [
    {
     "name": "stdin",
     "output_type": "stream",
     "text": [
      "Enter your address:  0x3f5CE5FBFe3E9af3971dD833D26bA9b5C936f0bE\n"
     ]
    }
   ],
   "source": [
    "# Enter wallet address and API key\n",
    "address = input(\"Enter your address: \")\n",
    "\n",
    "def getAddressTransctions():\n",
    "    # API pull using get\n",
    "    last_address_transactions = f'https://api.ethplorer.io/getAddressTransactions/{address}?limit=1000&apiKey={apikey}'\n",
    "    response_data_last_address_transactions = requests.get(last_address_transactions).json()\n",
    "    # Creating lists by looping through list of dict objects in json from API\n",
    "    timestamp = []\n",
    "    converted_timestamp = []\n",
    "    hash_num = []\n",
    "    value = []\n",
    "    from_add = []\n",
    "    to_add = []\n",
    "    for item in response_data_last_address_transactions:\n",
    "        timestamp.append(item['timestamp'])\n",
    "        converted_timestamp.append(datetime.fromtimestamp(item['timestamp']))\n",
    "        hash_num.append(item['hash'])\n",
    "        value.append(item['value'])\n",
    "        from_add.append(item['from'])\n",
    "        to_add.append(item['to'])\n",
    "\n",
    "    # Creating datafame\n",
    "    df = pd.DataFrame({'timestamp':timestamp, 'converted_timestamp':converted_timestamp, 'transaction_hash': hash_num, 'value_in_eth': value, 'from_address': from_add, 'to_address': to_add})\n",
    "    return df\n",
    "\n",
    "# getAddressTransctions()"
   ]
  },
  {
   "cell_type": "code",
   "execution_count": 58,
   "metadata": {},
   "outputs": [
    {
     "data": {
      "text/html": [
       "<div>\n",
       "<style scoped>\n",
       "    .dataframe tbody tr th:only-of-type {\n",
       "        vertical-align: middle;\n",
       "    }\n",
       "\n",
       "    .dataframe tbody tr th {\n",
       "        vertical-align: top;\n",
       "    }\n",
       "\n",
       "    .dataframe thead th {\n",
       "        text-align: right;\n",
       "    }\n",
       "</style>\n",
       "<table border=\"1\" class=\"dataframe\">\n",
       "  <thead>\n",
       "    <tr style=\"text-align: right;\">\n",
       "      <th></th>\n",
       "      <th>timestamp</th>\n",
       "      <th>converted_timestamp</th>\n",
       "      <th>transaction_hash</th>\n",
       "      <th>value_in_eth</th>\n",
       "      <th>from_address</th>\n",
       "      <th>to_address</th>\n",
       "    </tr>\n",
       "  </thead>\n",
       "  <tbody>\n",
       "    <tr>\n",
       "      <th>0</th>\n",
       "      <td>1620674287</td>\n",
       "      <td>2021-05-10 15:18:07</td>\n",
       "      <td>0x1d85196be105c84f7ca975aff1cebd343562624faae2...</td>\n",
       "      <td>0.035695</td>\n",
       "      <td>0x3f5ce5fbfe3e9af3971dd833d26ba9b5c936f0be</td>\n",
       "      <td>0x9522c7321ba416e041097c1fffdab736e3b465c8</td>\n",
       "    </tr>\n",
       "    <tr>\n",
       "      <th>1</th>\n",
       "      <td>1620674277</td>\n",
       "      <td>2021-05-10 15:17:57</td>\n",
       "      <td>0x72062de0bd4faec8fa383a7f09580b93f7cb0f02fb8b...</td>\n",
       "      <td>24.059460</td>\n",
       "      <td>0x3f5ce5fbfe3e9af3971dd833d26ba9b5c936f0be</td>\n",
       "      <td>0xe87c7c73b34fb36d1c9c697e3eb902f1f62a6a68</td>\n",
       "    </tr>\n",
       "    <tr>\n",
       "      <th>2</th>\n",
       "      <td>1620674277</td>\n",
       "      <td>2021-05-10 15:17:57</td>\n",
       "      <td>0x2695b455b3b20434aff7f0b720de09d7bfbc4a91523d...</td>\n",
       "      <td>0.397008</td>\n",
       "      <td>0x3f5ce5fbfe3e9af3971dd833d26ba9b5c936f0be</td>\n",
       "      <td>0xc7bb06d37c351670c51a2698ac0cc034c016f3d4</td>\n",
       "    </tr>\n",
       "    <tr>\n",
       "      <th>3</th>\n",
       "      <td>1620674270</td>\n",
       "      <td>2021-05-10 15:17:50</td>\n",
       "      <td>0xedfb05b380f033eca88e901b46eddd646f2a3aaccbab...</td>\n",
       "      <td>0.455300</td>\n",
       "      <td>0x3f5ce5fbfe3e9af3971dd833d26ba9b5c936f0be</td>\n",
       "      <td>0x7f5ff215ed9d868ba19592474f292f99d9e16a3f</td>\n",
       "    </tr>\n",
       "    <tr>\n",
       "      <th>4</th>\n",
       "      <td>1620674270</td>\n",
       "      <td>2021-05-10 15:17:50</td>\n",
       "      <td>0xb5975a705ebd5b6f16c295a235072e4b821d27a8d6bf...</td>\n",
       "      <td>0.009577</td>\n",
       "      <td>0x3f5ce5fbfe3e9af3971dd833d26ba9b5c936f0be</td>\n",
       "      <td>0x8a15b831d66448ec2527790b86bd900164aea719</td>\n",
       "    </tr>\n",
       "  </tbody>\n",
       "</table>\n",
       "</div>"
      ],
      "text/plain": [
       "    timestamp converted_timestamp  \\\n",
       "0  1620674287 2021-05-10 15:18:07   \n",
       "1  1620674277 2021-05-10 15:17:57   \n",
       "2  1620674277 2021-05-10 15:17:57   \n",
       "3  1620674270 2021-05-10 15:17:50   \n",
       "4  1620674270 2021-05-10 15:17:50   \n",
       "\n",
       "                                    transaction_hash  value_in_eth  \\\n",
       "0  0x1d85196be105c84f7ca975aff1cebd343562624faae2...      0.035695   \n",
       "1  0x72062de0bd4faec8fa383a7f09580b93f7cb0f02fb8b...     24.059460   \n",
       "2  0x2695b455b3b20434aff7f0b720de09d7bfbc4a91523d...      0.397008   \n",
       "3  0xedfb05b380f033eca88e901b46eddd646f2a3aaccbab...      0.455300   \n",
       "4  0xb5975a705ebd5b6f16c295a235072e4b821d27a8d6bf...      0.009577   \n",
       "\n",
       "                                 from_address  \\\n",
       "0  0x3f5ce5fbfe3e9af3971dd833d26ba9b5c936f0be   \n",
       "1  0x3f5ce5fbfe3e9af3971dd833d26ba9b5c936f0be   \n",
       "2  0x3f5ce5fbfe3e9af3971dd833d26ba9b5c936f0be   \n",
       "3  0x3f5ce5fbfe3e9af3971dd833d26ba9b5c936f0be   \n",
       "4  0x3f5ce5fbfe3e9af3971dd833d26ba9b5c936f0be   \n",
       "\n",
       "                                   to_address  \n",
       "0  0x9522c7321ba416e041097c1fffdab736e3b465c8  \n",
       "1  0xe87c7c73b34fb36d1c9c697e3eb902f1f62a6a68  \n",
       "2  0xc7bb06d37c351670c51a2698ac0cc034c016f3d4  \n",
       "3  0x7f5ff215ed9d868ba19592474f292f99d9e16a3f  \n",
       "4  0x8a15b831d66448ec2527790b86bd900164aea719  "
      ]
     },
     "execution_count": 58,
     "metadata": {},
     "output_type": "execute_result"
    }
   ],
   "source": [
    "df = getAddressTransctions()\n",
    "df.head()"
   ]
  },
  {
   "cell_type": "code",
   "execution_count": 63,
   "metadata": {},
   "outputs": [
    {
     "name": "stdin",
     "output_type": "stream",
     "text": [
      "Enter your address:  0x3f5CE5FBFe3E9af3971dD833D26bA9b5C936f0bE\n"
     ]
    }
   ],
   "source": [
    "address = input(\"Enter your address: \")\n",
    "\n",
    "def getTokenAddress():\n",
    "    # API pull using get\n",
    "    last_address_transactions = f'https://api.ethplorer.io/getTokenPriceHistoryGrouped/{address}?limit=1000&apiKey={apikey}'\n",
    "    response_data_last_address_transactions = requests.get(last_address_transactions).json()\n",
    "    return response_data_last_address_transactions\n",
    "\n",
    "# getTokenAddress()"
   ]
  },
  {
   "cell_type": "code",
   "execution_count": 64,
   "metadata": {},
   "outputs": [
    {
     "ename": "SyntaxError",
     "evalue": "invalid syntax (<ipython-input-64-3a178867843c>, line 1)",
     "output_type": "error",
     "traceback": [
      "\u001b[1;36m  File \u001b[1;32m\"<ipython-input-64-3a178867843c>\"\u001b[1;36m, line \u001b[1;32m1\u001b[0m\n\u001b[1;33m    curl -H \"X-testing: testing\" https://apiv2.bitcoinaverage.com/indices/global/ticker/all?crypto=BTC&fiat=USD,EUR\u001b[0m\n\u001b[1;37m                               ^\u001b[0m\n\u001b[1;31mSyntaxError\u001b[0m\u001b[1;31m:\u001b[0m invalid syntax\n"
     ]
    }
   ],
   "source": []
  }
 ],
 "metadata": {
  "kernelspec": {
   "display_name": "Python 3",
   "language": "python",
   "name": "python3"
  },
  "language_info": {
   "codemirror_mode": {
    "name": "ipython",
    "version": 3
   },
   "file_extension": ".py",
   "mimetype": "text/x-python",
   "name": "python",
   "nbconvert_exporter": "python",
   "pygments_lexer": "ipython3",
   "version": "3.7.9"
  }
 },
 "nbformat": 4,
 "nbformat_minor": 4
}
